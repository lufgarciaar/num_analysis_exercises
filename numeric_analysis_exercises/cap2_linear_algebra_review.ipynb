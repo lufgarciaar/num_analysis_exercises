{
 "metadata": {
  "language_info": {
   "codemirror_mode": {
    "name": "ipython",
    "version": 3
   },
   "file_extension": ".py",
   "mimetype": "text/x-python",
   "name": "python",
   "nbconvert_exporter": "python",
   "pygments_lexer": "ipython3",
   "version": "3.8.5-final"
  },
  "orig_nbformat": 2,
  "kernelspec": {
   "name": "python3",
   "display_name": "Python 3.8.5 64-bit (conda)",
   "metadata": {
    "interpreter": {
     "hash": "ecf5722fdaf1897a315d257d89d94520bfcaa453217d5becf09b39e73618b0de"
    }
   }
  }
 },
 "nbformat": 4,
 "nbformat_minor": 2,
 "cells": [
  {
   "cell_type": "code",
   "execution_count": 3,
   "metadata": {},
   "outputs": [],
   "source": [
    "import numpy as np\n",
    "import algebra_tools"
   ]
  },
  {
   "cell_type": "code",
   "execution_count": 4,
   "metadata": {},
   "outputs": [
    {
     "output_type": "stream",
     "name": "stdout",
     "text": [
      "The rank of A is  3\nThe rank of B is  2\n"
     ]
    }
   ],
   "source": [
    "#%% Problem 2\n",
    "# a\n",
    "A = np.array([[-1, 2, 0],\n",
    "[5, 1, -2],[6, 3, 4]])\n",
    "rankA = np.linalg.matrix_rank(A)\n",
    "\n",
    "# b\n",
    "B = np. array([[3, 2, 2, -5],\n",
    "[0.6, 1.5, 1.5, -5.4],\n",
    "[1.2, -0.3, -0.3, 2.4]])\n",
    "rankB = np.linalg.matrix_rank(B)\n",
    "\n",
    "print('The rank of A is ', rankA)\n",
    "print('The rank of B is ', rankB)"
   ]
  },
  {
   "cell_type": "code",
   "execution_count": 8,
   "metadata": {},
   "outputs": [
    {
     "output_type": "stream",
     "name": "stdout",
     "text": [
      "About the first system...\nThe system hasno solution\n\nAbout the second system...\nThe system hasno solution\n\n"
     ]
    }
   ],
   "source": [
    "#%% Problem 3\n",
    "# a\n",
    "A_augmented = np.array([[2, -1, 3, 0],\n",
    "[-1, 4, -1, 10],\n",
    "[0, 10, 15, 50],\n",
    "[20, 10, 1, 40]])\n",
    "\n",
    "solutions = algebra_tools.linear_solutions(A_augmented)\n",
    "\n",
    "print('About the first system...')\n",
    "if solutions == 'unique solution':\n",
    "    A = A_augmented[0:-1, 0:-1]\n",
    "    b = A_augmented[0:-1, -1]\n",
    "    X = np.linalg.solve(A, b)\n",
    "    print('The solutions are ', X)\n",
    "else:\n",
    "    print('The system has ' + solutions + '\\n')\n",
    "\n",
    "# b\n",
    "A_augmented = np.array([[2, -1, 3, 0],\n",
    "[-1, 4, -1, 10],\n",
    "[0, 10, 15, 50],\n",
    "[20, 10, 1, 40]])\n",
    "\n",
    "solutions = algebra_tools.linear_solutions(A_augmented)\n",
    "\n",
    "print('About the second system...')\n",
    "\n",
    "if solutions == 'unique solution':\n",
    "    A = A_augmented[0:-1, 0:-1]\n",
    "    b = A_augmented[0:-1, -1]\n",
    "    X = np.linalg.solve(A, b)\n",
    "    print('The solutions are ', X)\n",
    "else:\n",
    "    print('The system has ' + solutions + '\\n')"
   ]
  },
  {
   "cell_type": "code",
   "execution_count": 9,
   "metadata": {},
   "outputs": [
    {
     "output_type": "stream",
     "name": "stdout",
     "text": [
      "The eigenvalues of A are  [-5.  3.]\nThe eigenvectors of A are  [[1. 0.]\n [0. 1.]]\nThe eigenvalues of A are  [-3.  4.]\nThe eigenvectors of A are  [[-0.70710678 -0.37139068]\n [ 0.70710678 -0.92847669]]\n"
     ]
    }
   ],
   "source": [
    "#%% Problem 4\n",
    "# a\n",
    "A = np.array([[-5, 0], [0, 3]])\n",
    "eigval_A, eigvect_A = np.linalg.eig(A)\n",
    "\n",
    "# b\n",
    "B = np.array([[-1, 2], [5, 2]])\n",
    "eigval_B, eigvect_B = np.linalg.eig(B)\n",
    "\n",
    "print('The eigenvalues of A are ', eigval_A)\n",
    "print('The eigenvectors of A are ', eigvect_A)\n",
    "\n",
    "print('The eigenvalues of A are ', eigval_B)\n",
    "print('The eigenvectors of A are ', eigvect_B)"
   ]
  }
 ]
}