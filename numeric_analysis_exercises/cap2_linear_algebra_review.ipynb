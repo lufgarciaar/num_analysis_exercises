{
 "metadata": {
  "language_info": {
   "codemirror_mode": {
    "name": "ipython",
    "version": 3
   },
   "file_extension": ".py",
   "mimetype": "text/x-python",
   "name": "python",
   "nbconvert_exporter": "python",
   "pygments_lexer": "ipython3",
   "version": "3.8.5-final"
  },
  "orig_nbformat": 2,
  "kernelspec": {
   "name": "python3",
   "display_name": "Python 3.8.5 64-bit (conda)",
   "metadata": {
    "interpreter": {
     "hash": "ecf5722fdaf1897a315d257d89d94520bfcaa453217d5becf09b39e73618b0de"
    }
   }
  }
 },
 "nbformat": 4,
 "nbformat_minor": 2,
 "cells": [
  {
   "cell_type": "code",
   "execution_count": 4,
   "metadata": {},
   "outputs": [],
   "source": [
    "import numpy as np"
   ]
  },
  {
   "cell_type": "code",
   "execution_count": 8,
   "metadata": {},
   "outputs": [
    {
     "output_type": "stream",
     "name": "stdout",
     "text": [
      "The rank of A is  3\nThe rank of B is  2\n"
     ]
    }
   ],
   "source": [
    "#%% Problem 2\n",
    "# a\n",
    "A = np.array([[-1, 2, 0],\n",
    "[5, 1, -2],[6, 3, 4]])\n",
    "rankA = np.linalg.matrix_rank(A)\n",
    "\n",
    "# b\n",
    "B = np. array([[3, 2, 2, -5],\n",
    "[0.6, 1.5, 1.5, -5.4],\n",
    "[1.2, -0.3, -0.3, 2.4]])\n",
    "rankB = np.linalg.matrix_rank(B)\n",
    "\n",
    "print('The rank of A is ', rankA)\n",
    "print('The rank of B is ', rankB)"
   ]
  }
 ]
}