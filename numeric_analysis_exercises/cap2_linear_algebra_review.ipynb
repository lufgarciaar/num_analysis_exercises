{
 "metadata": {
  "language_info": {
   "codemirror_mode": {
    "name": "ipython",
    "version": 3
   },
   "file_extension": ".py",
   "mimetype": "text/x-python",
   "name": "python",
   "nbconvert_exporter": "python",
   "pygments_lexer": "ipython3",
   "version": "3.8.5"
  },
  "orig_nbformat": 2,
  "kernelspec": {
   "name": "python3",
   "display_name": "Python 3.8.5 64-bit ('base': conda)",
   "metadata": {
    "interpreter": {
     "hash": "ecf5722fdaf1897a315d257d89d94520bfcaa453217d5becf09b39e73618b0de"
    }
   }
  }
 },
 "nbformat": 4,
 "nbformat_minor": 2,
 "cells": [
  {
   "cell_type": "code",
   "execution_count": 1,
   "metadata": {},
   "outputs": [],
   "source": [
    "import numpy as np\n",
    "import linalg_tools"
   ]
  },
  {
   "cell_type": "code",
   "execution_count": 4,
   "metadata": {},
   "outputs": [
    {
     "output_type": "stream",
     "name": "stdout",
     "text": [
      "The rank of A is  3\nThe rank of B is  2\n"
     ]
    }
   ],
   "source": [
    "#%% Problem 2\n",
    "# a\n",
    "A = np.array([[-1, 2, 0],\n",
    "[5, 1, -2],[6, 3, 4]])\n",
    "rankA = np.linalg.matrix_rank(A)\n",
    "\n",
    "# b\n",
    "B = np. array([[3, 2, 2, -5],\n",
    "[0.6, 1.5, 1.5, -5.4],\n",
    "[1.2, -0.3, -0.3, 2.4]])\n",
    "rankB = np.linalg.matrix_rank(B)\n",
    "\n",
    "print('The rank of A is ', rankA)\n",
    "print('The rank of B is ', rankB)"
   ]
  },
  {
   "cell_type": "code",
   "execution_count": 5,
   "metadata": {},
   "outputs": [
    {
     "output_type": "stream",
     "name": "stdout",
     "text": [
      "About the first system...\nThe system has no solution\n\nAbout the second system...\nThe system has no solution\n\n"
     ]
    }
   ],
   "source": [
    "#%% Problem 3\n",
    "# a\n",
    "A_augmented = np.array([[2, -1, 3, 0],\n",
    "[-1, 4, -1, 10],\n",
    "[0, 10, 15, 50],\n",
    "[20, 10, 1, 40]])\n",
    "\n",
    "solutions = linalg_tools.lin_sol(A_augmented)\n",
    "\n",
    "print('About the first system...')\n",
    "if solutions == 'unique solution':\n",
    "    A = A_augmented[0:-1, 0:-1]\n",
    "    b = A_augmented[0:-1, -1]\n",
    "    X = np.linalg.solve(A, b)\n",
    "    print('The solutions are ', X)\n",
    "else:\n",
    "    print('The system has ' + solutions + '\\n')\n",
    "\n",
    "# b\n",
    "A_augmented = np.array([[2, -1, 3, 0],\n",
    "[-1, 4, -1, 10],\n",
    "[0, 10, 15, 50],\n",
    "[20, 10, 1, 40]])\n",
    "\n",
    "solutions = linalg_tools.lin_sol(A_augmented)\n",
    "\n",
    "print('About the second system...')\n",
    "\n",
    "if solutions == 'unique solution':\n",
    "    A = A_augmented[0:-1, 0:-1]\n",
    "    b = A_augmented[0:-1, -1]\n",
    "    X = np.linalg.solve(A, b)\n",
    "    print('The solutions are ', X)\n",
    "else:\n",
    "    print('The system has ' + solutions + '\\n')"
   ]
  },
  {
   "cell_type": "code",
   "execution_count": null,
   "metadata": {},
   "outputs": [],
   "source": [
    "#%% Problem 4\n",
    "# a\n",
    "A = np.array([[-5, 0], [0, 3]])\n",
    "eigval_A, eigvect_A = np.linalg.eig(A)\n",
    "\n",
    "# b\n",
    "B = np.array([[-1, 2], [5, 2]])\n",
    "eigval_B, eigvect_B = np.linalg.eig(B)\n",
    "\n",
    "print('The eigenvalues of A are \\n', eigval_A)\n",
    "print('The eigenvectors of A are \\n', eigvect_A, '\\n')\n",
    "\n",
    "print('The eigenvalues of A are \\n', eigval_B)\n",
    "print('The eigenvectors of A are \\n', eigvect_B, '\\n')"
   ]
  },
  {
   "cell_type": "code",
   "execution_count": 19,
   "metadata": {},
   "outputs": [
    {
     "output_type": "stream",
     "name": "stdout",
     "text": [
      "The matrix that diagonalizes A is \n [[2.62771868 0.        ]\n [0.         8.37228132]] \n\nThe matrix that diagonalizes B is \n [[ 21.11555196   0.           0.        ]\n [  0.           1.38351895   0.        ]\n [  0.           0.         -16.49907091]] \n\nA proof can be made getting the matrix from diag_matrix \n\n[[ 1. -3.]\n [ 4. 10.]] \n\nA proof can be made getting the matrix from diag_matrix \n\n[[ 4.  3.  6.]\n [ 3. -8. 15.]\n [ 6. 15. 10.]] \n\n"
     ]
    }
   ],
   "source": [
    "#%% Problem 5\n",
    "# a\n",
    "A = np.array([[1, -3], [4, 10]])\n",
    "diag_A, eigvects_A = linalg_tools.diagonalize(A)\n",
    "\n",
    "# b\n",
    "B = np.array([[4, 3, 6],\n",
    "[3, -8, 15],\n",
    "[6, 15, 10]])\n",
    "diag_B, eigvects_B = linalg_tools.diagonalize(B)\n",
    "\n",
    "print('The matrix that diagonalizes A is \\n', diag_A, '\\n')\n",
    "print('The matrix that diagonalizes B is \\n', diag_B, '\\n')\n",
    "\n",
    "#%% Proof\n",
    "A_proof = eigvects_A@diag_A@np.linalg.inv(eigvects_A)\n",
    "print('A proof can be made getting the matrix from diag_matrix \\n')\n",
    "print(A_proof, '\\n')\n",
    "\n",
    "B_proof = eigvects_B@diag_B@np.linalg.inv(eigvects_B)\n",
    "print('A proof can be made getting the matrix from diag_matrix \\n')\n",
    "print(B_proof, '\\n')"
   ]
  }
 ]
}